{
 "cells": [
  {
   "cell_type": "markdown",
   "metadata": {},
   "source": [
    "<center>\n",
    "    <img src=\"https://s3-api.us-geo.objectstorage.softlayer.net/cf-courses-data/CognitiveClass/Logos/organization_logo/organization_logo.png\" width=\"300\" alt=\"cognitiveclass.ai logo\"  />\n",
    "</center>\n"
   ]
  },
  {
   "cell_type": "markdown",
   "metadata": {
    "tags": []
   },
   "source": [
    "<h1>My Jupyter Notebook on IBM Watson Studio</h1>"
   ]
  },
  {
   "cell_type": "markdown",
   "metadata": {
    "tags": []
   },
   "source": [
    "<p><strong>Amirreza MohammadiBideshki</strong></p>"
   ]
  },
  {
   "cell_type": "markdown",
   "metadata": {
    "tags": []
   },
   "source": [
    "<p><em>I am interested in Data Science because I think I'm good at working with data, complex and vague situations and decision making</em></p>"
   ]
  },
  {
   "cell_type": "markdown",
   "metadata": {
    "tags": []
   },
   "source": [
    "<h3>The below code should calculate 1+1</h3>"
   ]
  },
  {
   "cell_type": "code",
   "execution_count": null,
   "metadata": {
    "tags": []
   },
   "outputs": [
    {
     "data": {
      "text/plain": [
       "2"
      ]
     },
     "execution_count": 1,
     "metadata": {},
     "output_type": "execute_result"
    }
   ],
   "source": [
    "1 + 1"
   ]
  },
  {
   "cell_type": "markdown",
   "metadata": {},
   "source": [
    "<a href=\"url\">link text</a>\n",
    "<ul style=\"list-style-type:disc;\">\n",
    "  <li>list item 1</li>\n",
    "  <li>list item 2</li>\n",
    "  <li>list item 3</li>\n",
    "</ul>\n",
    "<table>\n",
    "  <tr>\n",
    "    <th>sample table tiltle 1</th>\n",
    "    <th>sample table tiltle 2</th>\n",
    "    <th>sample table tiltle 3</th>\n",
    "  </tr>\n",
    "  <tr>\n",
    "    <td>sample row</td>\n",
    "    <td>sample row</td>\n",
    "    <td>sample row</td>\n",
    "  </tr>\n",
    "  <tr>\n",
    "    <td>sample row</td>\n",
    "    <td>sample row</td>\n",
    "    <td>sample row</td>\n",
    "  </tr>\n",
    "</table>"
   ]
  }
 ],
 "metadata": {
  "kernelspec": {
   "display_name": "Python",
   "language": "python",
   "name": "conda-env-python-py"
  },
  "language_info": {
   "codemirror_mode": {
    "name": "ipython",
    "version": 3
   },
   "file_extension": ".py",
   "mimetype": "text/x-python",
   "name": "python",
   "nbconvert_exporter": "python",
   "pygments_lexer": "ipython3",
   "version": "3.7.12"
  }
 },
 "nbformat": 4,
 "nbformat_minor": 4
}
